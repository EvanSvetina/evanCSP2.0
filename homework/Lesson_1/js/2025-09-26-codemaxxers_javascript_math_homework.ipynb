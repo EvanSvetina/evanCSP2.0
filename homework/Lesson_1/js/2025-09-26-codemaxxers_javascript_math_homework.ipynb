{
 "cells": [
  {
   "cell_type": "raw",
   "id": "6290bcd2",
   "metadata": {
    "vscode": {
     "languageId": "raw"
    }
   },
   "source": [
    "---\n",
    "title: \"Mathematical Operations in Javascript and Python - Hacks\"\n",
    "description: \"Apply your skills of math, logic, and coding.\"\n",
    "layout: post\n",
    "permalink: /csp/codemaxxers/python/mathematical-operations-hacks\n",
    "---"
   ]
  },
  {
   "cell_type": "markdown",
   "id": "d98b569e",
   "metadata": {},
   "source": [
    "# Basic Algebraic Math hacks\n",
    "\n",
    "## Q1 (Exponents):\n",
    "### A cube has a side length of 6 units. What is its volume?"
   ]
  },
  {
   "cell_type": "code",
   "execution_count": null,
   "id": "235ceb13",
   "metadata": {
    "vscode": {
     "languageId": "javascript"
    }
   },
   "outputs": [
    {
     "data": {
      "application/javascript": "let sideLength = 6;\nlet volumeCube = sideLength*sideLength*sideLength;\n\nconsole.log (\"the volume of the cube is \" + volumeCube + \".\");\n",
      "text/plain": [
       "<IPython.core.display.Javascript object>"
      ]
     },
     "metadata": {},
     "output_type": "display_data"
    }
   ],
   "source": [
    "%%js\n",
    "let sideLength = 6;\n",
    "let volumeCube = sideLength*sideLength*sideLength;\n",
    "\n",
    "console.log(\"the volume of the cube is \" + volumeCube + \".\");"
   ]
  },
  {
   "cell_type": "markdown",
   "id": "3fb1dd4d",
   "metadata": {},
   "source": [
    "## Q2 (PEMDAS):\n",
    "### Evaluate the expression: \n",
    "\n",
    "(7+14)*5/12 + 2"
   ]
  },
  {
   "cell_type": "code",
   "execution_count": 2,
   "id": "49d712a3",
   "metadata": {
    "vscode": {
     "languageId": "javascript"
    }
   },
   "outputs": [
    {
     "data": {
      "application/javascript": "console.log ((7+14)*5/12 + 2);\n",
      "text/plain": [
       "<IPython.core.display.Javascript object>"
      ]
     },
     "metadata": {},
     "output_type": "display_data"
    }
   ],
   "source": [
    "%%js \n",
    "console.log ((7+14)*5/12 + 2);"
   ]
  },
  {
   "cell_type": "markdown",
   "id": "fcaa4762",
   "metadata": {},
   "source": [
    "## Q3 (Algorithm): \n",
    "\n",
    "Write JavaScript  code where you define variables and run commands that find the values of operations you apply onto them"
   ]
  },
  {
   "cell_type": "code",
   "execution_count": 9,
   "id": "0a2081a9",
   "metadata": {
    "vscode": {
     "languageId": "javascript"
    }
   },
   "outputs": [
    {
     "data": {
      "application/javascript": "let plus = \"+\";\nlet minus = \"-\";\nlet times = \"*\";\nlet divide = \"/\";\nlet number1 = 6\nlet number2 = 7\n\nconsole.log(number1 + plus + number2 + \"=\" + (number1 + number2)); //sum\n\nconsole.log(number1 + minus + number2 + \"=\" + (number1 - number2)); //difference\n\nconsole.log(number1 + times + number2 + \"=\" + (number1 * number2)); //product\n\nconsole.log(number1 + divide + number2 + \"=\" + (number1 / number2)); //quotient\n",
      "text/plain": [
       "<IPython.core.display.Javascript object>"
      ]
     },
     "metadata": {},
     "output_type": "display_data"
    }
   ],
   "source": [
    "%%js \n",
    "let plus = \"+\";\n",
    "let minus = \"-\";\n",
    "let times = \"*\";\n",
    "let divide = \"/\";\n",
    "let number1 = 6\n",
    "let number2 = 7\n",
    "\n",
    "console.log(number1 + plus + number2 + \"=\" + (number1 + number2)); //sum\n",
    "\n",
    "console.log(number1 + minus + number2 + \"=\" + (number1 - number2)); //difference\n",
    "\n",
    "console.log(number1 + times + number2 + \"=\" + (number1 * number2)); //product\n",
    "\n",
    "console.log(number1 + divide + number2 + \"=\" + (number1 / number2)); //quotient"
   ]
  },
  {
   "cell_type": "markdown",
   "id": "7927eeac",
   "metadata": {},
   "source": [
    "<img src=\"../../../../../images/3_3diagram.png\" alt=\"Diagram showing mathematical operations\" style=\"max-width:300px; margin:10px;\">\n",
    "\">\n"
   ]
  }
 ],
 "metadata": {
  "kernelspec": {
   "display_name": "venv",
   "language": "python",
   "name": "python3"
  },
  "language_info": {
   "codemirror_mode": {
    "name": "ipython",
    "version": 3
   },
   "file_extension": ".py",
   "mimetype": "text/x-python",
   "name": "python",
   "nbconvert_exporter": "python",
   "pygments_lexer": "ipython3",
   "version": "3.13.7"
  }
 },
 "nbformat": 4,
 "nbformat_minor": 5
}
