{
 "cells": [
  {
   "cell_type": "raw",
   "id": "e4102f0e",
   "metadata": {
    "vscode": {
     "languageId": "raw"
    }
   },
   "source": "---\ntoc: true\ncomments: false\nlayout: post\ncategories: [CSP Big Idea 3]\ntitle: 3.2 Data Abstractions JS Hack\nauthor: Jaynee Chauhan, Michelle Ji, Lucas Masterson\ndescription: Hack(s) for intro to data abstractions in JS.\ntype: ccc\npermalink: /homework/big-idea-3/3.2/js\n---"
  },
  {
   "cell_type": "markdown",
   "id": "690b4172",
   "metadata": {},
   "source": [
    "## JS Lab: Library\n",
    "\n",
    "In this lab, similarly to the Python lab, you'll be working on a simple \"database\" for a library to understand CRUD operations in relation to representing redundant, similar data under one structure -- an abstraction.\n",
    "\n",
    "For JavaScript, you'll have to open the web console from Developer Tools (`ctrl + shift + p` -> `Developer: Toggle developer tools`)."
   ]
  },
  {
   "cell_type": "code",
   "execution_count": null,
   "id": "d7228dda",
   "metadata": {
    "vscode": {
     "languageId": "javascript"
    }
   },
   "outputs": [
    {
     "data": {
      "application/javascript": "// Our \"database\" is an array of objects, each representing a book in a library.\n// Arrays allow us to store multiple records in a single variable, making it easy to manage collections of data.\nlet library = [\n    { title: \"1984\", author: \"George Orwell\", checkedOut: false },\n    { title: \"To Kill a Mockingbird\", author: \"Harper Lee\", checkedOut: true },\n    { title: \"The Great Gatsby\", author: \"F. Scott Fitzgerald\", checkedOut: false }\n];\n// Function to display all books\nfunction displayLibrary(lib) {\n    console.log(\"All books in the library:\");\n    lib.forEach((book, i) => {\n        console.log(`Index ${i}:`, book);\n    });\n}\n\n// Function to add a new book (students: implement prompt and push logic)\nfunction addBook(lib) {\n    const title = prompt(\"Enter book title:\");\n    const author = prompt(\"Enter book author:\");\n    const checkedOutInput = prompt(\"Is the book checked out? (yes/no):\");\n    const checkedOut = checkedOutInput.toLowerCase() === \"yes\";\n    lib.push({ title, author, checkedOut });\n    console.log(`Book \"${title}\" added.`);\n}\n\n// Function to find a book by title (students: implement search logic)\nfunction findBook(lib, searchTitle) {\n    const found = lib.find(book => book.title.toLowerCase() === searchTitle.toLowerCase());\n    if (found) {\n        console.log(\"Book found:\", found);\n    } else {\n        console.log(`Book titled \"${searchTitle}\" not found.`);\n    }\n}\n\n// Function to update a book's checkedOut status (students: implement update logic)\nfunction updateBook(lib, searchTitle) {\n    const book = lib.find(book => book.title.toLowerCase() === searchTitle.toLowerCase());\n    if (book) {\n        const checkedOutInput = prompt(\"Update checked out status (yes/no):\");\n        book.checkedOut = checkedOutInput.toLowerCase() === \"yes\";\n        console.log(`Book \"${searchTitle}\" updated:`, book);\n    } else {\n        console.log(`Book titled \"${searchTitle}\" not found.`);\n    }\n}\n\n// Function to delete a book (students: implement delete logic)\nfunction deleteBook(lib, searchTitle) {\n    const index = lib.findIndex(book => book.title.toLowerCase() === searchTitle.toLowerCase());\n    if (index !== -1) {\n        const removed = lib.splice(index, 1)[0];\n        console.log(`Book \"${removed.title}\" deleted.`);\n    } else {\n        console.log(`Book titled \"${searchTitle}\" not found.`);\n    }\n}\n\n// Example usage\n// NOTE: prompt() does not work in Jupyter's JS sandbox.\n// Use addBookManual to add books without prompt interaction.\nfunction addBookManual(lib, title, author, checkedOut) {\n    lib.push({ title, author, checkedOut });\n    console.log(`Book \"${title}\" added.`);\n}\n\n// Example manual add:\naddBookManual(library, \"Brave New World\", \"Aldous Huxley\", false);\ndisplayLibrary(library);\n// Students: Uncomment and complete the following as you implement\naddBook(library);\nfindBook(library, \"1984\");\nupdateBook(library, \"To Kill a Mockingbird\");\ndeleteBook(library, \"The Great Gatsby\");\n",
      "text/plain": [
       "<IPython.core.display.Javascript object>"
      ]
     },
     "metadata": {},
     "output_type": "display_data"
    }
   ],
   "source": [
    "%%js\n",
    "// Our \"database\" is an array of objects, each representing a book in a library.\n",
    "// Arrays allow us to store multiple records in a single variable, making it easy to manage collections of data.\n",
    "let library = [\n",
    "    { title: \"1984\", author: \"George Orwell\", checkedOut: false },\n",
    "    { title: \"To Kill a Mockingbird\", author: \"Harper Lee\", checkedOut: true },\n",
    "    { title: \"The Great Gatsby\", author: \"F. Scott Fitzgerald\", checkedOut: false }\n",
    "];\n",
    "// Function to display all books\n",
    "function displayLibrary(lib) {\n",
    "    console.log(\"All books in the library:\");\n",
    "    lib.forEach((book, i) => {\n",
    "        console.log(`Index ${i}:`, book);\n",
    "    });\n",
    "}\n",
    "\n",
    "// Function to add a new book (students: implement prompt and push logic)\n",
    "function addBook(lib) {\n",
    "    const title = prompt(\"Enter book title:\");\n",
    "    const author = prompt(\"Enter book author:\");\n",
    "    const checkedOutInput = prompt(\"Is the book checked out? (yes/no):\");\n",
    "    const checkedOut = checkedOutInput.toLowerCase() === \"yes\";\n",
    "    lib.push({ title, author, checkedOut });\n",
    "    console.log(`Book \"${title}\" added.`);\n",
    "}\n",
    "\n",
    "// Function to find a book by title (students: implement search logic)\n",
    "function findBook(lib, searchTitle) {\n",
    "    const found = lib.find(book => book.title.toLowerCase() === searchTitle.toLowerCase());\n",
    "    if (found) {\n",
    "        console.log(\"Book found:\", found);\n",
    "    } else {\n",
    "        console.log(`Book titled \"${searchTitle}\" not found.`);\n",
    "    }\n",
    "}\n",
    "\n",
    "// Function to update a book's checkedOut status (students: implement update logic)\n",
    "function updateBook(lib, searchTitle) {\n",
    "    const book = lib.find(book => book.title.toLowerCase() === searchTitle.toLowerCase());\n",
    "    if (book) {\n",
    "        const checkedOutInput = prompt(\"Update checked out status (yes/no):\");\n",
    "        book.checkedOut = checkedOutInput.toLowerCase() === \"yes\";\n",
    "        console.log(`Book \"${searchTitle}\" updated:`, book);\n",
    "    } else {\n",
    "        console.log(`Book titled \"${searchTitle}\" not found.`);\n",
    "    }\n",
    "}\n",
    "\n",
    "// Function to delete a book (students: implement delete logic)\n",
    "function deleteBook(lib, searchTitle) {\n",
    "    const index = lib.findIndex(book => book.title.toLowerCase() === searchTitle.toLowerCase());\n",
    "    if (index !== -1) {\n",
    "        const removed = lib.splice(index, 1)[0];\n",
    "        console.log(`Book \"${removed.title}\" deleted.`);\n",
    "    } else {\n",
    "        console.log(`Book titled \"${searchTitle}\" not found.`);\n",
    "    }\n",
    "}\n",
    "\n",
    "// Example usage\n",
    "displayLibrary(library);\n",
    "// Students: Uncomment and complete the following as you implement\n",
    "addBook(library);\n",
    "findBook(library, \"1984\");\n",
    "updateBook(library, \"To Kill a Mockingbird\");\n",
    "deleteBook(library, \"The Great Gatsby\");"
   ]
  }
 ],
 "metadata": {
  "kernelspec": {
   "display_name": "venv",
   "language": "python",
   "name": "python3"
  },
  "language_info": {
   "codemirror_mode": {
    "name": "ipython",
    "version": 3
   },
   "file_extension": ".py",
   "mimetype": "text/x-python",
   "name": "python",
   "nbconvert_exporter": "python",
   "pygments_lexer": "ipython3",
   "version": "3.13.7"
  }
 },
 "nbformat": 4,
 "nbformat_minor": 5
}