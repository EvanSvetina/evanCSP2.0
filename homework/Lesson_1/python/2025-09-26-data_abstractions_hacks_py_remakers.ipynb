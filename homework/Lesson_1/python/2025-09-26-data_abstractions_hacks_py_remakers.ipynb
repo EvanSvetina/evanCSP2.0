{
 "cells": [
  {
   "cell_type": "code",
   "execution_count": null,
   "id": "ca7c3f46",
   "metadata": {},
   "outputs": [],
   "source": [
    "---\n",
    "toc: true\n",
    "comments: false\n",
    "layout: post\n",
    "categories: [CSP Big Idea 3]\n",
    "title: 3.2 Data Abstractions Python Hack\n",
    "author: Jaynee Chauhan, Michelle Ji, Lucas Masterson\n",
    "description: Hack(s) for intro to data abstractions in Python.\n",
    "type: ccc\n",
    "permalink: /csp/big-idea-3/data-abstractions/p4/hacks-py\n",
    "---"
   ]
  },
  {
   "cell_type": "markdown",
   "id": "14d2f5f9",
   "metadata": {},
   "source": [
    "## Python Lab: Simple DBs\n",
    "\n",
    "In this lab, you'll be working on a simple \"database\" system consisting of dictionaries. The idea here is to understand some basic CRUD actions and how you can use data abstractions (dictionaries in this case) to represent redundant, similar data under a unified structure.\n",
    "\n",
    "You'll have to do some research about some Python syntax for this!\n",
    "\n",
    "You can complete the Python lab by simply running your code and getting your outputs in the Jupyter notebook."
   ]
  },
  {
   "cell_type": "code",
   "execution_count": 7,
   "id": "04367227",
   "metadata": {},
   "outputs": [
    {
     "name": "stdout",
     "output_type": "stream",
     "text": [
      "All records in the list:\n",
      "Index 0: {'name': 'Alice', 'age': 16, 'grade': 'A'}\n",
      "Index 1: {'name': 'Bob', 'age': 17, 'grade': 'B'}\n",
      "Index 2: {'name': 'Charlie', 'age': 16, 'grade': 'C'}\n",
      "Record found: {'name': 'Alice', 'age': 16, 'grade': 'A'}\n",
      "Record not found.\n",
      "Current record: {'name': 'Bob', 'age': 17, 'grade': 'B'}\n",
      "Record updated: {'name': 'sajdh', 'age': 4, 'grade': 'eeee'}\n",
      "Record deleted: {'name': 'Charlie', 'age': 16, 'grade': 'C'}\n",
      "Record not found.\n"
     ]
    }
   ],
   "source": [
    "# Our \"database\" is a list of dictionaries, each representing a record (e.g., a student)\n",
    "# Lists allow us to store multiple records in a single variable, making it easy to manage collections of data.\n",
    "db = [\n",
    "    {\"name\": \"Alice\", \"age\": 16, \"grade\": \"A\"},\n",
    "    {\"name\": \"Bob\", \"age\": 17, \"grade\": \"B\"},\n",
    "    {\"name\": \"Charlie\", \"age\": 16, \"grade\": \"C\"}\n",
    "]\n",
    "\n",
    "# Lists provide order and allow us to add, remove, or update records efficiently.\n",
    "# Each element in the list is a dictionary, which abstracts the details of each student.\n",
    "\n",
    "# Function to display all records\n",
    "def display_db(database):\n",
    "    print(\"All records in the list:\")\n",
    "    for i, record in enumerate(database):\n",
    "        print(f\"Index {i}: {record}\")\n",
    "\n",
    "# Function to add a new record (students: implement input and append logic)\n",
    "def add_record(database):\n",
    "    # Prompt the user to enter name, age, and grade separated by commas\n",
    "    user_input = input(\"Enter name, age, and grade separated by commas: \")\n",
    "    # Split the input string into a list of values\n",
    "    name, age, grade = [item.strip() for item in user_input.split(\",\")]\n",
    "    # Create a new dictionary for the student record\n",
    "    new_record = {\"name\": name, \"age\": int(age), \"grade\": grade}\n",
    "    # Append the new record to the database (list)\n",
    "    database.append(new_record)\n",
    "    pass\n",
    "\n",
    "# Function to find a record by name (students: implement search logic)\n",
    "def find_record(database, search_name):\n",
    "    for record in database:\n",
    "        if record[\"name\"] == search_name:\n",
    "            print(f\"Record found: {record}\")\n",
    "            return record\n",
    "    print(\"Record not found.\")\n",
    "    pass\n",
    "\n",
    "# Function to update a record (students: implement update logic)\n",
    "def update_record(database, search_name):\n",
    "    for record in database:\n",
    "        if record[\"name\"] == search_name:\n",
    "            print(f\"Current record: {record}\")\n",
    "            user_input = input(\"Enter new name, age, and grade separated by commas: \")\n",
    "            name, age, grade = [item.strip() for item in user_input.split(\",\")]\n",
    "            record[\"name\"] = name\n",
    "            record[\"age\"] = int(age)\n",
    "            record[\"grade\"] = grade\n",
    "            print(f\"Record updated: {record}\")\n",
    "            return\n",
    "    print(\"Record\" + search_name + \" not found.\")\n",
    "    pass\n",
    "\n",
    "# Function to delete a record (students: implement delete logic)\n",
    "def delete_record(database, search_name):\n",
    "    for i, record in enumerate(database):\n",
    "        if record[\"name\"] == search_name:\n",
    "            del database[i]\n",
    "            print(f\"Record deleted: {record}\")\n",
    "            return\n",
    "    print(\"Record not found.\")\n",
    "    pass\n",
    "\n",
    "# Example usage\n",
    "display_db(db)\n",
    "add_record(db)\n",
    "find_record(db, \"Alice\")\n",
    "find_record(db, \"gregorio the great\")\n",
    "update_record(db, \"Bob\")\n",
    "delete_record(db, \"Charlie\")\n",
    "find_record(db, \"Charlie\")\n"
   ]
  }
 ],
 "metadata": {
  "kernelspec": {
   "display_name": "venv",
   "language": "python",
   "name": "python3"
  },
  "language_info": {
   "codemirror_mode": {
    "name": "ipython",
    "version": 3
   },
   "file_extension": ".py",
   "mimetype": "text/x-python",
   "name": "python",
   "nbconvert_exporter": "python",
   "pygments_lexer": "ipython3",
   "version": "3.13.7"
  }
 },
 "nbformat": 4,
 "nbformat_minor": 5
}
