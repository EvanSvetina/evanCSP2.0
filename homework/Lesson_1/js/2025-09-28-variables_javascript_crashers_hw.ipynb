{
 "cells": [
  {
   "cell_type": "raw",
   "id": "f7d70aa2",
   "metadata": {
    "vscode": {
     "languageId": "raw"
    }
   },
   "source": [
    "---\n",
    "layout: post\n",
    "title: \"3.1 Variables & Assignments hacks\"\n",
    "categories: [Programming Fundamentals, Tutorial]\n",
    "tags: [python, javascript, variables, assignment, beginner]\n",
    "description: Apply your understanding of Variables & Assignments with these hacks\n",
    "author: Aditya Srivastava, Laya Balaji\n",
    "permalink: /javascript/variables/crashers-hw\n",
    "---"
   ]
  },
  {
   "cell_type": "markdown",
   "id": "ce56910b",
   "metadata": {},
   "source": [
    "# 🐷 Peppa Maze Variables & Assignments Hacks\n",
    "Welcome to the Peppa Maze hacks! These challenges will test your understanding of variables, assignments, and logic in Javascript. Read each task, then write or modify code to solve it."
   ]
  },
  {
   "cell_type": "markdown",
   "id": "7dee3bb5",
   "metadata": {},
   "source": [
    "## Hack 1: JavaScript - Variable Assignment, Naming, and Operators\n",
    "Create variables for Peppa's name, score, and level using good JavaScript naming conventions. Assign initial values, then use operators to update score (add 10) and level (multiply by 2). Print all results."
   ]
  },
  {
   "cell_type": "code",
   "execution_count": 2,
   "id": "e4bee113",
   "metadata": {
    "vscode": {
     "languageId": "javascript"
    }
   },
   "outputs": [
    {
     "data": {
      "application/javascript": "let peppaName = \"pegba\";\nlet score = 0;\nlet level = 1\nconsole.log(peppaName + \" is at level \" + level + \" with a score of \" + score + \".\");\nscore = score + 10;\nlevel = level * 2;\nconsole.log(peppaName + \" is at level \" + level + \" with a score of \" + score + \".\");\n// Write your code here\n// Create variables for Peppa's name, score, and level\n// Use operators to update score and level\n",
      "text/plain": [
       "<IPython.core.display.Javascript object>"
      ]
     },
     "metadata": {},
     "output_type": "display_data"
    }
   ],
   "source": [
    "%%js\n",
    "let peppaName = \"pegba\";\n",
    "let score = 0;\n",
    "let level = 1\n",
    "console.log(peppaName + \" is at level \" + level + \" with a score of \" + score + \".\");\n",
    "score = score + 10;\n",
    "level = level * 2;\n",
    "console.log(peppaName + \" is at level \" + level + \" with a score of \" + score + \".\");\n",
    "// Write your code here\n",
    "// Create variables for Peppa's name, score, and level\n",
    "// Use operators to update score and level\n"
   ]
  },
  {
   "cell_type": "markdown",
   "id": "3f8a5cbe",
   "metadata": {},
   "source": [
    "## Hack 2: JavaScript - Variable Declaration, Assignment, and Operators\n",
    "Declare variables for Peppa and George's scores using good JavaScript naming conventions. Assign initial values, then use operators to update both scores (e.g., Peppa gets 15 points, George loses 5 points). Print both scores."
   ]
  },
  {
   "cell_type": "code",
   "execution_count": 6,
   "id": "c4c80df3",
   "metadata": {
    "vscode": {
     "languageId": "javascript"
    }
   },
   "outputs": [
    {
     "data": {
      "application/javascript": "let peppaScore = 19;\nlet georgeScore = 489;\nconsole.log(\"peppa has a score of \" + peppaScore + \" .\" + \"george has a score of \" + georgeScore + \" .\" );\ngeorgeScore = Math.floor(georgeScore * Math.random());\npeppaScore++;\nconsole.log(\"peppa has a score of \" + peppaScore + \" .\" + \"george has a score of \" + georgeScore + \" .\" );\n",
      "text/plain": [
       "<IPython.core.display.Javascript object>"
      ]
     },
     "metadata": {},
     "output_type": "display_data"
    }
   ],
   "source": [
    "%%js \n",
    "let peppaScore = 19;\n",
    "let georgeScore = 489;\n",
    "console.log(\"peppa has a score of \" + peppaScore + \" .\" + \"george has a score of \" + georgeScore + \" .\" );\n",
    "georgeScore = Math.floor(georgeScore * Math.random());\n",
    "peppaScore++;\n",
    "console.log(\"peppa has a score of \" + peppaScore + \" .\" + \"george has a score of \" + georgeScore + \" .\" );\n"
   ]
  },
  {
   "cell_type": "markdown",
   "id": "30580c24",
   "metadata": {},
   "source": [
    "## Hack 3: JavaScript - Multiple Assignment and Math Operators\n",
    "Peppa and George both start at level 1. Use a single line to assign both their levels to 5. Then, calculate a combined score by multiplying their levels together and multiplying by 10. Print all results."
   ]
  },
  {
   "cell_type": "code",
   "execution_count": 19,
   "id": "67774ff3",
   "metadata": {
    "vscode": {
     "languageId": "javascript"
    }
   },
   "outputs": [
    {
     "data": {
      "application/javascript": "let peppaLevel = 1;\nlet georgeLevel = 1;\ngeorgeLevel = peppaLevel = 5\nlet combinedScore = peppaLevel * georgeLevel * 10;\nconsole.log(\"peppa has a level of \" + peppaLevel + \" .\" + \"george has a level of \" + georgeLevel + \" .\" + \"Peppa and George have a combined score of \" + combinedScore + \".\");\n",
      "text/plain": [
       "<IPython.core.display.Javascript object>"
      ]
     },
     "metadata": {},
     "output_type": "display_data"
    }
   ],
   "source": [
    "%%js \n",
    "let peppaLevel = 1;\n",
    "let georgeLevel = 1;\n",
    "georgeLevel = peppaLevel = 5\n",
    "let combinedScore = peppaLevel * georgeLevel * 10;\n",
    "console.log(\"peppa has a level of \" + peppaLevel + \" .\" + \"george has a level of \" + georgeLevel + \" .\" + \"Peppa and George have a combined score of \" + combinedScore + \".\");"
   ]
  }
 ],
 "metadata": {
  "kernelspec": {
   "display_name": "venv",
   "language": "python",
   "name": "python3"
  },
  "language_info": {
   "codemirror_mode": {
    "name": "ipython",
    "version": 3
   },
   "file_extension": ".py",
   "mimetype": "text/x-python",
   "name": "python",
   "nbconvert_exporter": "python",
   "pygments_lexer": "ipython3",
   "version": "3.13.7"
  }
 },
 "nbformat": 4,
 "nbformat_minor": 5
}
